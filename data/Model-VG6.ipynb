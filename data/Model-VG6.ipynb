{
 "cells": [
  {
   "cell_type": "code",
   "execution_count": 2,
   "metadata": {},
   "outputs": [],
   "source": [
    "import os\n",
    "import os.path\n",
    "import os.path as op\n",
    "from keras import backend as K"
   ]
  },
  {
   "cell_type": "code",
   "execution_count": 3,
   "metadata": {},
   "outputs": [],
   "source": [
    "import tensorflow as tf"
   ]
  },
  {
   "cell_type": "code",
   "execution_count": 4,
   "metadata": {},
   "outputs": [],
   "source": [
    "import numpy as np  \n",
    "from keras.preprocessing.image import ImageDataGenerator, img_to_array, load_img  \n",
    "from keras.models import Sequential  \n",
    "from keras.layers import Dropout, Flatten, Dense  \n",
    "from keras import applications  \n",
    "from keras.utils.np_utils import to_categorical  \n",
    "import matplotlib.pyplot as plt  \n",
    "import math  \n",
    "import cv2  "
   ]
  },
  {
   "cell_type": "code",
   "execution_count": 51,
   "metadata": {},
   "outputs": [
    {
     "data": {
      "text/plain": [
       "'/Users/seimandijuliette/git/asd-project/data'"
      ]
     },
     "execution_count": 51,
     "metadata": {},
     "output_type": "execute_result"
    }
   ],
   "source": [
    "pwd"
   ]
  },
  {
   "cell_type": "code",
   "execution_count": 55,
   "metadata": {},
   "outputs": [
    {
     "name": "stdout",
     "output_type": "stream",
     "text": [
      "Total images:  529\n",
      "Training:  423\n",
      "Testing:  106\n",
      "Total images:  571\n",
      "Training:  456\n",
      "Testing:  115\n"
     ]
    }
   ],
   "source": [
    "import os\n",
    "import numpy as np\n",
    "import shutil\n",
    "import random\n",
    "\n",
    "# # Creating Train / Val / Test folders (One time use)\n",
    "root_dir = 'images/new_images'\n",
    "classes_dir = ['/autism', '/control']\n",
    "\n",
    "val_ratio = 0.8\n",
    "test_ratio = 0.2\n",
    "\n",
    "for cls in classes_dir:\n",
    "    os.makedirs(root_dir +'/train' + cls)\n",
    "    os.makedirs(root_dir +'/test' + cls)\n",
    "\n",
    "\n",
    "    # Creating partitions of the data after shuffeling\n",
    "    src = root_dir + cls # Folder to copy images from\n",
    "\n",
    "    allFileNames = os.listdir(src)\n",
    "    np.random.shuffle(allFileNames)\n",
    "    train_FileNames, test_FileNames = np.split(np.array(allFileNames),\n",
    "                                                              [int(len(allFileNames)* (1 - test_ratio))])\n",
    "\n",
    "\n",
    "    train_FileNames = [src+'/'+ name for name in train_FileNames.tolist()]\n",
    "    test_FileNames = [src+'/' + name for name in test_FileNames.tolist()]\n",
    "\n",
    "    print('Total images: ', len(allFileNames))\n",
    "    print('Training: ', len(train_FileNames))\n",
    "    print('Testing: ', len(test_FileNames))\n",
    "\n",
    "    # Copy-pasting images\n",
    "    for name in train_FileNames:\n",
    "        shutil.copy(name, root_dir +'/train' + cls)\n",
    "\n",
    "    for name in test_FileNames:\n",
    "        shutil.copy(name, root_dir +'/test' + cls)"
   ]
  },
  {
   "cell_type": "code",
   "execution_count": null,
   "metadata": {},
   "outputs": [],
   "source": [
    "Data Augmentation"
   ]
  },
  {
   "cell_type": "code",
   "execution_count": 6,
   "metadata": {},
   "outputs": [
    {
     "name": "stdout",
     "output_type": "stream",
     "text": [
      "Found 879 images belonging to 2 classes.\n",
      "Found 221 images belonging to 2 classes.\n",
      "Batch shape=(32, 224, 224, 3), min=0.000, max=250.087\n"
     ]
    }
   ],
   "source": [
    "\n",
    "# prepare an iterators for each dataset\n",
    "train_it = datagen.flow_from_directory('images/new_images/train/',\n",
    "                                       class_mode = 'categorical',\n",
    "                                       target_size = (224, 224))\n",
    "test_it = datagen.flow_from_directory('images/new_images/test/', \n",
    "                                      class_mode = 'categorical',\n",
    "                                      target_size = (224, 224))\n",
    "# confirm the iterator works\n",
    "batchX, batchy = train_it.next()\n",
    "print('Batch shape=%s, min=%.3f, max=%.3f' % (batchX.shape, batchX.min(), batchX.max()))"
   ]
  },
  {
   "cell_type": "code",
   "execution_count": null,
   "metadata": {},
   "outputs": [],
   "source": []
  },
  {
   "cell_type": "code",
   "execution_count": 1,
   "metadata": {},
   "outputs": [],
   "source": [
    "from tensorflow.keras.preprocessing.image import ImageDataGenerator"
   ]
  },
  {
   "cell_type": "code",
   "execution_count": 7,
   "metadata": {},
   "outputs": [],
   "source": [
    "# dimensions of our images.  \n",
    "img_width, img_height = 224, 224  \n",
    "   \n",
    "top_model_weights_path = 'bottleneck_fc_model.h5'  \n",
    "train_data_dir = 'images/new_images/train'  \n",
    "validation_data_dir = 'images/new_images/test'  \n",
    "   \n",
    " # number of epochs to train top model  \n",
    "epochs = 50  \n",
    " # batch size used by flow_from_directory and predict_generator  \n",
    "batch_size = 16  "
   ]
  },
  {
   "cell_type": "code",
   "execution_count": 8,
   "metadata": {},
   "outputs": [],
   "source": [
    " model = applications.VGG16(include_top=False, weights='imagenet')  "
   ]
  },
  {
   "cell_type": "code",
   "execution_count": 9,
   "metadata": {},
   "outputs": [
    {
     "name": "stdout",
     "output_type": "stream",
     "text": [
      "Found 879 images belonging to 2 classes.\n"
     ]
    },
    {
     "name": "stderr",
     "output_type": "stream",
     "text": [
      "/Users/seimandijuliette/anaconda3/lib/python3.8/site-packages/tensorflow/python/keras/engine/training.py:1905: UserWarning: `Model.predict_generator` is deprecated and will be removed in a future version. Please use `Model.predict`, which supports generators.\n",
      "  warnings.warn('`Model.predict_generator` is deprecated and '\n"
     ]
    }
   ],
   "source": [
    "datagen = ImageDataGenerator(rescale=1. / 255)  \n",
    "   \n",
    "generator = datagen.flow_from_directory(  \n",
    "     train_data_dir,  \n",
    "     target_size=(img_width, img_height),  \n",
    "     batch_size=batch_size,  \n",
    "     class_mode=None,  \n",
    "     shuffle=False)  \n",
    "   \n",
    "nb_train_samples = len(generator.filenames)  \n",
    "num_classes = len(generator.class_indices)  \n",
    "   \n",
    "predict_size_train = int(math.ceil(nb_train_samples / batch_size))  \n",
    "   \n",
    "bottleneck_features_train = model.predict_generator(  \n",
    "     generator, predict_size_train)  \n",
    "   \n",
    "np.save('bottleneck_features_train.npy', bottleneck_features_train)  "
   ]
  },
  {
   "cell_type": "code",
   "execution_count": 11,
   "metadata": {},
   "outputs": [
    {
     "name": "stdout",
     "output_type": "stream",
     "text": [
      "Found 879 images belonging to 2 classes.\n"
     ]
    }
   ],
   "source": [
    "datagen_top = ImageDataGenerator(rescale=1./255)  \n",
    "generator_top = datagen_top.flow_from_directory(  \n",
    "         train_data_dir,  \n",
    "         target_size=(img_width, img_height),  \n",
    "         batch_size=batch_size,  \n",
    "         class_mode='categorical',  \n",
    "         shuffle=False)  \n",
    "   \n",
    "nb_train_samples = len(generator_top.filenames)  \n",
    "num_classes = len(generator_top.class_indices)  \n",
    "   \n",
    "# load the bottleneck features saved earlier  \n",
    "train_data = np.load('bottleneck_features_train.npy')  \n",
    "   \n",
    "# get the class lebels for the training data, in the original order  \n",
    "train_labels = generator_top.classes  \n",
    "   \n",
    "# convert the training labels to categorical vectors  \n",
    "train_labels = to_categorical(train_labels, num_classes=num_classes) \n"
   ]
  },
  {
   "cell_type": "code",
   "execution_count": 10,
   "metadata": {},
   "outputs": [
    {
     "name": "stdout",
     "output_type": "stream",
     "text": [
      "Found 221 images belonging to 2 classes.\n"
     ]
    }
   ],
   "source": [
    "generator = datagen.flow_from_directory(  \n",
    "     validation_data_dir,  \n",
    "     target_size=(img_width, img_height),  \n",
    "     batch_size=batch_size,  \n",
    "     class_mode=None,  \n",
    "     shuffle=False)  \n",
    "   \n",
    "nb_validation_samples = len(generator.filenames)  \n",
    "   \n",
    "predict_size_validation = int(math.ceil(nb_validation_samples / batch_size))  \n",
    "   \n",
    "bottleneck_features_validation = model.predict_generator(  \n",
    "     generator, predict_size_validation)  \n",
    "   \n",
    "np.save('bottleneck_features_validation.npy', bottleneck_features_validation) "
   ]
  },
  {
   "cell_type": "code",
   "execution_count": 12,
   "metadata": {},
   "outputs": [
    {
     "name": "stdout",
     "output_type": "stream",
     "text": [
      "Found 221 images belonging to 2 classes.\n"
     ]
    }
   ],
   "source": [
    "generator_top = datagen_top.flow_from_directory(  \n",
    "         validation_data_dir,  \n",
    "         target_size=(img_width, img_height),  \n",
    "         batch_size=batch_size,  \n",
    "         class_mode=None,  \n",
    "         shuffle=False)  \n",
    "   \n",
    "nb_validation_samples = len(generator_top.filenames)  \n",
    "   \n",
    "validation_data = np.load('bottleneck_features_validation.npy')  \n",
    "   \n",
    "validation_labels = generator_top.classes  \n",
    "validation_labels = to_categorical(validation_labels, num_classes=num_classes)"
   ]
  },
  {
   "cell_type": "code",
   "execution_count": 13,
   "metadata": {},
   "outputs": [],
   "source": [
    "model = Sequential() \n",
    "\n",
    "model.add(Flatten(input_shape=train_data.shape[1:]))  \n",
    "model.add(Dense(256, activation='relu'))  \n",
    "model.add(Dropout(0.5))  \n",
    "model.add(Dense(num_classes, activation='sigmoid'))  \n",
    "   \n",
    "model.compile(optimizer='rmsprop',  \n",
    "              loss='categorical_crossentropy', metrics=['accuracy']) "
   ]
  },
  {
   "cell_type": "code",
   "execution_count": 14,
   "metadata": {},
   "outputs": [
    {
     "name": "stdout",
     "output_type": "stream",
     "text": [
      "Epoch 1/50\n",
      "55/55 [==============================] - 3s 42ms/step - loss: 5.2953 - accuracy: 0.4864 - val_loss: 0.6961 - val_accuracy: 0.4796\n",
      "Epoch 2/50\n",
      "55/55 [==============================] - 2s 31ms/step - loss: 0.7150 - accuracy: 0.5110 - val_loss: 0.6931 - val_accuracy: 0.4842\n",
      "Epoch 3/50\n",
      "55/55 [==============================] - 2s 30ms/step - loss: 0.7298 - accuracy: 0.5056 - val_loss: 0.6930 - val_accuracy: 0.5204\n",
      "Epoch 4/50\n",
      "55/55 [==============================] - 2s 31ms/step - loss: 0.7042 - accuracy: 0.5169 - val_loss: 0.6888 - val_accuracy: 0.5204\n",
      "Epoch 5/50\n",
      "55/55 [==============================] - 2s 30ms/step - loss: 0.7027 - accuracy: 0.5442 - val_loss: 0.6924 - val_accuracy: 0.5204\n",
      "Epoch 6/50\n",
      "55/55 [==============================] - 2s 32ms/step - loss: 0.6933 - accuracy: 0.5384 - val_loss: 0.6878 - val_accuracy: 0.5204\n",
      "Epoch 7/50\n",
      "55/55 [==============================] - 2s 32ms/step - loss: 0.6997 - accuracy: 0.5535 - val_loss: 0.6903 - val_accuracy: 0.5656\n",
      "Epoch 8/50\n",
      "55/55 [==============================] - 2s 32ms/step - loss: 0.7041 - accuracy: 0.5317 - val_loss: 0.6841 - val_accuracy: 0.5430\n",
      "Epoch 9/50\n",
      "55/55 [==============================] - 2s 35ms/step - loss: 0.6795 - accuracy: 0.5496 - val_loss: 0.6831 - val_accuracy: 0.5520\n",
      "Epoch 10/50\n",
      "55/55 [==============================] - 2s 31ms/step - loss: 0.7119 - accuracy: 0.5280 - val_loss: 0.6914 - val_accuracy: 0.5158\n",
      "Epoch 11/50\n",
      "55/55 [==============================] - 2s 31ms/step - loss: 0.6904 - accuracy: 0.5309 - val_loss: 0.6909 - val_accuracy: 0.5385\n",
      "Epoch 12/50\n",
      "55/55 [==============================] - 2s 31ms/step - loss: 0.6887 - accuracy: 0.5336 - val_loss: 0.6932 - val_accuracy: 0.4932\n",
      "Epoch 13/50\n",
      "55/55 [==============================] - 2s 31ms/step - loss: 0.6859 - accuracy: 0.5393 - val_loss: 0.6830 - val_accuracy: 0.5475\n",
      "Epoch 14/50\n",
      "55/55 [==============================] - 2s 31ms/step - loss: 0.6918 - accuracy: 0.5317 - val_loss: 0.6883 - val_accuracy: 0.5430\n",
      "Epoch 15/50\n",
      "55/55 [==============================] - 2s 30ms/step - loss: 0.6712 - accuracy: 0.5782 - val_loss: 0.6772 - val_accuracy: 0.5973\n",
      "Epoch 16/50\n",
      "55/55 [==============================] - 2s 31ms/step - loss: 0.6740 - accuracy: 0.5498 - val_loss: 0.7074 - val_accuracy: 0.5339\n",
      "Epoch 17/50\n",
      "55/55 [==============================] - 2s 31ms/step - loss: 0.6988 - accuracy: 0.5173 - val_loss: 0.6774 - val_accuracy: 0.5792\n",
      "Epoch 18/50\n",
      "55/55 [==============================] - 2s 35ms/step - loss: 0.6661 - accuracy: 0.5928 - val_loss: 0.6740 - val_accuracy: 0.5701\n",
      "Epoch 19/50\n",
      "55/55 [==============================] - 2s 31ms/step - loss: 0.6679 - accuracy: 0.5877 - val_loss: 0.6704 - val_accuracy: 0.6154\n",
      "Epoch 20/50\n",
      "55/55 [==============================] - 2s 31ms/step - loss: 0.6670 - accuracy: 0.5561 - val_loss: 0.6703 - val_accuracy: 0.6109\n",
      "Epoch 21/50\n",
      "55/55 [==============================] - 2s 31ms/step - loss: 0.6698 - accuracy: 0.5368 - val_loss: 0.6841 - val_accuracy: 0.5385\n",
      "Epoch 22/50\n",
      "55/55 [==============================] - 2s 30ms/step - loss: 0.6590 - accuracy: 0.6068 - val_loss: 0.6714 - val_accuracy: 0.5928\n",
      "Epoch 23/50\n",
      "55/55 [==============================] - 2s 31ms/step - loss: 0.6540 - accuracy: 0.5838 - val_loss: 0.6799 - val_accuracy: 0.5928\n",
      "Epoch 24/50\n",
      "55/55 [==============================] - 2s 31ms/step - loss: 0.6764 - accuracy: 0.5517 - val_loss: 0.6972 - val_accuracy: 0.4842\n",
      "Epoch 25/50\n",
      "55/55 [==============================] - 2s 30ms/step - loss: 0.6621 - accuracy: 0.5963 - val_loss: 0.6919 - val_accuracy: 0.5656\n",
      "Epoch 26/50\n",
      "55/55 [==============================] - 2s 32ms/step - loss: 0.6540 - accuracy: 0.6068 - val_loss: 0.6770 - val_accuracy: 0.5701\n",
      "Epoch 27/50\n",
      "55/55 [==============================] - 2s 30ms/step - loss: 0.6384 - accuracy: 0.6072 - val_loss: 0.6855 - val_accuracy: 0.5792\n",
      "Epoch 28/50\n",
      "55/55 [==============================] - 2s 31ms/step - loss: 0.6507 - accuracy: 0.5979 - val_loss: 0.6793 - val_accuracy: 0.5701\n",
      "Epoch 29/50\n",
      "55/55 [==============================] - 2s 31ms/step - loss: 0.6473 - accuracy: 0.5953 - val_loss: 0.6953 - val_accuracy: 0.5023\n",
      "Epoch 30/50\n",
      "55/55 [==============================] - 2s 32ms/step - loss: 0.6539 - accuracy: 0.5968 - val_loss: 0.6690 - val_accuracy: 0.6154\n",
      "Epoch 31/50\n",
      "55/55 [==============================] - 2s 32ms/step - loss: 0.6407 - accuracy: 0.5968 - val_loss: 0.6715 - val_accuracy: 0.5928\n",
      "Epoch 32/50\n",
      "55/55 [==============================] - 2s 32ms/step - loss: 0.6523 - accuracy: 0.5923 - val_loss: 0.6770 - val_accuracy: 0.5837\n",
      "Epoch 33/50\n",
      "55/55 [==============================] - 2s 30ms/step - loss: 0.6443 - accuracy: 0.5799 - val_loss: 0.6731 - val_accuracy: 0.5792\n",
      "Epoch 34/50\n",
      "55/55 [==============================] - 2s 30ms/step - loss: 0.6409 - accuracy: 0.5865 - val_loss: 0.6735 - val_accuracy: 0.5882\n",
      "Epoch 35/50\n",
      "55/55 [==============================] - 2s 30ms/step - loss: 0.6459 - accuracy: 0.6268 - val_loss: 0.6799 - val_accuracy: 0.5701\n",
      "Epoch 36/50\n",
      "55/55 [==============================] - 2s 31ms/step - loss: 0.6488 - accuracy: 0.5920 - val_loss: 0.6768 - val_accuracy: 0.5882\n",
      "Epoch 37/50\n",
      "55/55 [==============================] - 2s 35ms/step - loss: 0.6426 - accuracy: 0.5752 - val_loss: 0.6933 - val_accuracy: 0.5204\n",
      "Epoch 38/50\n",
      "55/55 [==============================] - 2s 33ms/step - loss: 0.6409 - accuracy: 0.5746 - val_loss: 0.6997 - val_accuracy: 0.5792\n",
      "Epoch 39/50\n",
      "55/55 [==============================] - 2s 32ms/step - loss: 0.6151 - accuracy: 0.6179 - val_loss: 0.6858 - val_accuracy: 0.5249\n",
      "Epoch 40/50\n",
      "55/55 [==============================] - 2s 33ms/step - loss: 0.6367 - accuracy: 0.5843 - val_loss: 0.6817 - val_accuracy: 0.5701\n",
      "Epoch 41/50\n",
      "55/55 [==============================] - 2s 32ms/step - loss: 0.6447 - accuracy: 0.6023 - val_loss: 0.6763 - val_accuracy: 0.5656\n",
      "Epoch 42/50\n",
      "55/55 [==============================] - 2s 31ms/step - loss: 0.6361 - accuracy: 0.6041 - val_loss: 0.6986 - val_accuracy: 0.5882\n",
      "Epoch 43/50\n",
      "55/55 [==============================] - 2s 33ms/step - loss: 0.6398 - accuracy: 0.6130 - val_loss: 0.6756 - val_accuracy: 0.6063\n",
      "Epoch 44/50\n",
      "55/55 [==============================] - 2s 32ms/step - loss: 0.6301 - accuracy: 0.6227 - val_loss: 0.6786 - val_accuracy: 0.5792\n",
      "Epoch 45/50\n",
      "55/55 [==============================] - 2s 33ms/step - loss: 0.6312 - accuracy: 0.5865 - val_loss: 0.6753 - val_accuracy: 0.5928\n",
      "Epoch 46/50\n",
      "55/55 [==============================] - 2s 32ms/step - loss: 0.6194 - accuracy: 0.6134 - val_loss: 0.6779 - val_accuracy: 0.5837\n",
      "Epoch 47/50\n",
      "55/55 [==============================] - 2s 32ms/step - loss: 0.6442 - accuracy: 0.6060 - val_loss: 0.6812 - val_accuracy: 0.6154\n",
      "Epoch 48/50\n",
      "55/55 [==============================] - 2s 33ms/step - loss: 0.6122 - accuracy: 0.6201 - val_loss: 0.6883 - val_accuracy: 0.6154\n",
      "Epoch 49/50\n",
      "55/55 [==============================] - 2s 31ms/step - loss: 0.6205 - accuracy: 0.6101 - val_loss: 0.6881 - val_accuracy: 0.5520\n",
      "Epoch 50/50\n",
      "55/55 [==============================] - 2s 32ms/step - loss: 0.6156 - accuracy: 0.6177 - val_loss: 0.7514 - val_accuracy: 0.6018\n"
     ]
    }
   ],
   "source": [
    "history = model.fit(train_data, train_labels,  \n",
    "          epochs=epochs,  \n",
    "          batch_size=batch_size,  \n",
    "          validation_data=(validation_data, validation_labels))"
   ]
  },
  {
   "cell_type": "code",
   "execution_count": 15,
   "metadata": {},
   "outputs": [
    {
     "name": "stdout",
     "output_type": "stream",
     "text": [
      "14/14 [==============================] - 0s 4ms/step - loss: 0.7514 - accuracy: 0.6018\n",
      "[INFO] accuracy: 60.18%\n",
      "[INFO] Loss: 0.751358151435852\n"
     ]
    }
   ],
   "source": [
    "model.save_weights(top_model_weights_path)  \n",
    "   \n",
    "(eval_loss, eval_accuracy) = model.evaluate(  \n",
    "     validation_data, validation_labels, batch_size=batch_size, verbose=1)\n",
    "\n",
    "print(\"[INFO] accuracy: {:.2f}%\".format(eval_accuracy * 100))  \n",
    "print(\"[INFO] Loss: {}\".format(eval_loss))  "
   ]
  },
  {
   "cell_type": "code",
   "execution_count": 16,
   "metadata": {},
   "outputs": [
    {
     "data": {
      "image/png": "[encoded data removed]",
      "text/plain": [
       "<Figure size 432x288 with 1 Axes>"
      ]
     },
     "metadata": {
      "needs_background": "light"
     },
     "output_type": "display_data"
    },
    {
     "data": {
      "image/png": "[encoded data removed]",
      "text/plain": [
       "<Figure size 432x288 with 1 Axes>"
      ]
     },
     "metadata": {
      "needs_background": "light"
     },
     "output_type": "display_data"
    }
   ],
   "source": [
    "import matplotlib.pyplot as plt\n",
    "\n",
    "train_acc = history.history['accuracy']\n",
    "val_acc = history.history['val_accuracy']\n",
    "train_loss = history.history['loss']\n",
    "val_loss = history.history['val_loss']\n",
    "No_Of_Epochs = range(epochs)\n",
    "\n",
    "plt.plot(No_Of_Epochs, train_acc, marker = 'o', color = 'blue', markersize = 12, \n",
    "                 linewidth = 2, label = 'Training Accuracy')\n",
    "plt.plot(No_Of_Epochs, val_acc, marker = '.', color = 'red', markersize = 12, \n",
    "                 linewidth = 2, label = 'Validation Accuracy')\n",
    "\n",
    "plt.title('Training Accuracy and Testing Accuracy w.r.t Number of Epochs')\n",
    "\n",
    "plt.legend()\n",
    "\n",
    "plt.figure()\n",
    "\n",
    "plt.plot(No_Of_Epochs, train_loss, marker = 'o', color = 'blue', markersize = 12, \n",
    "                 linewidth = 2, label = 'Training Loss')\n",
    "plt.plot(No_Of_Epochs, val_acc, marker = '.', color = 'red', markersize = 12, \n",
    "                 linewidth = 2, label = 'Validation Loss')\n",
    "\n",
    "plt.title('Training Loss and Testing Loss w.r.t Number of Epochs')\n",
    "\n",
    "plt.legend()\n",
    "\n",
    "plt.show()"
   ]
  },
  {
   "cell_type": "code",
   "execution_count": 17,
   "metadata": {},
   "outputs": [
    {
     "name": "stdout",
     "output_type": "stream",
     "text": [
      "[INFO] loading and preprocessing image...\n"
     ]
    }
   ],
   "source": [
    "image_path = 'image_test/test_image1.jpg'  \n",
    "   \n",
    "orig = cv2.imread(image_path)  \n",
    "   \n",
    "print(\"[INFO] loading and preprocessing image...\")  \n",
    "image = load_img(image_path, target_size=(224, 224))  \n",
    "image = img_to_array(image)  \n",
    "\n",
    "# important! otherwise the predictions will be '0'  \n",
    "image = image / 255  \n",
    "\n",
    "image = np.expand_dims(image, axis=0)"
   ]
  },
  {
   "cell_type": "code",
   "execution_count": 18,
   "metadata": {},
   "outputs": [
    {
     "name": "stderr",
     "output_type": "stream",
     "text": [
      "/Users/seimandijuliette/anaconda3/lib/python3.8/site-packages/tensorflow/python/keras/engine/sequential.py:450: UserWarning: `model.predict_classes()` is deprecated and will be removed after 2021-01-01. Please use instead:* `np.argmax(model.predict(x), axis=-1)`,   if your model does multi-class classification   (e.g. if it uses a `softmax` last-layer activation).* `(model.predict(x) > 0.5).astype(\"int32\")`,   if your model does binary classification   (e.g. if it uses a `sigmoid` last-layer activation).\n",
      "  warnings.warn('`model.predict_classes()` is deprecated and '\n"
     ]
    }
   ],
   "source": [
    "# build the VGG16 network  \n",
    "model = applications.VGG16(include_top=False, weights='imagenet')  \n",
    "\n",
    "# get the bottleneck prediction from the pre-trained VGG16 model  \n",
    "bottleneck_prediction = model.predict(image)  \n",
    "\n",
    "# build top model  \n",
    "model = Sequential()  \n",
    "model.add(Flatten(input_shape=bottleneck_prediction.shape[1:]))  \n",
    "model.add(Dense(256, activation='relu'))  \n",
    "model.add(Dropout(0.5))  \n",
    "model.add(Dense(num_classes, activation='sigmoid'))  \n",
    "\n",
    "model.load_weights(top_model_weights_path)  \n",
    "\n",
    "# use the bottleneck prediction on the top model to get the final classification  \n",
    "class_predicted = model.predict_classes(bottleneck_prediction)"
   ]
  },
  {
   "cell_type": "code",
   "execution_count": 19,
   "metadata": {},
   "outputs": [
    {
     "name": "stdout",
     "output_type": "stream",
     "text": [
      "Image ID: 1, Label: control\n"
     ]
    }
   ],
   "source": [
    "inID = class_predicted[0]  \n",
    "\n",
    "class_dictionary = generator_top.class_indices  \n",
    "\n",
    "inv_map = {v: k for k, v in class_dictionary.items()}  \n",
    "\n",
    "label = inv_map[inID]  \n",
    "\n",
    "# get the prediction label  \n",
    "print(\"Image ID: {}, Label: {}\".format(inID, label))  \n",
    "\n",
    "# display the predictions with the image  \n",
    "cv2.putText(orig, \"Predicted: {}\".format(label), (10, 30), cv2.FONT_HERSHEY_PLAIN, 1.5, (43, 99, 255), 2)  \n",
    "\n",
    "cv2.imshow(\"Classification\", orig)  "
   ]
  },
  {
   "cell_type": "code",
   "execution_count": null,
   "metadata": {},
   "outputs": [],
   "source": []
  }
 ],
 "metadata": {
  "kernelspec": {
   "display_name": "Python 3",
   "language": "python",
   "name": "python3"
  },
  "language_info": {
   "codemirror_mode": {
    "name": "ipython",
    "version": 3
   },
   "file_extension": ".py",
   "mimetype": "text/x-python",
   "name": "python",
   "nbconvert_exporter": "python",
   "pygments_lexer": "ipython3",
   "version": "3.8.5"
  }
 },
 "nbformat": 4,
 "nbformat_minor": 4
}
